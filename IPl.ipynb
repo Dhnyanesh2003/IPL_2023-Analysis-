{
  "nbformat": 4,
  "nbformat_minor": 0,
  "metadata": {
    "colab": {
      "provenance": []
    },
    "kernelspec": {
      "name": "python3",
      "display_name": "Python 3"
    },
    "language_info": {
      "name": "python"
    },
    "widgets": {
      "application/vnd.jupyter.widget-state+json": {
        "3842f80dec7c42c297b6e5bf7bf707b7": {
          "model_module": "@jupyter-widgets/controls",
          "model_name": "VBoxModel",
          "model_module_version": "1.5.0",
          "state": {
            "_dom_classes": [
              "widget-interact"
            ],
            "_model_module": "@jupyter-widgets/controls",
            "_model_module_version": "1.5.0",
            "_model_name": "VBoxModel",
            "_view_count": null,
            "_view_module": "@jupyter-widgets/controls",
            "_view_module_version": "1.5.0",
            "_view_name": "VBoxView",
            "box_style": "",
            "children": [
              "IPY_MODEL_36a9577ccc564b71bf095cc06bf66c03",
              "IPY_MODEL_6c7c47ea8928459ba466bc8f3a178b4b"
            ],
            "layout": "IPY_MODEL_e2e2ad03e89b4f259efa2f0d09c0a227"
          }
        },
        "36a9577ccc564b71bf095cc06bf66c03": {
          "model_module": "@jupyter-widgets/controls",
          "model_name": "DropdownModel",
          "model_module_version": "1.5.0",
          "state": {
            "_dom_classes": [],
            "_model_module": "@jupyter-widgets/controls",
            "_model_module_version": "1.5.0",
            "_model_name": "DropdownModel",
            "_options_labels": [
              "Gujarat Titans",
              "Chennai Super Kings",
              "Delhi Capitals",
              "Kolkata Knight Riders",
              "Punjab Kings",
              "Lucknow Super Giants",
              "Mumbai Indians",
              "Royal Challengers Bangalore",
              "Rajasthan Royals",
              "Sunrisers Hyderabad",
              "Unsold"
            ],
            "_view_count": null,
            "_view_module": "@jupyter-widgets/controls",
            "_view_module_version": "1.5.0",
            "_view_name": "DropdownView",
            "description": "Team:",
            "description_tooltip": null,
            "disabled": false,
            "index": 1,
            "layout": "IPY_MODEL_3f2b1a052e9040dc950b4a94add1febb",
            "style": "IPY_MODEL_38bc93be5eaf4f1bbceb04a32cc63f3c"
          }
        },
        "6c7c47ea8928459ba466bc8f3a178b4b": {
          "model_module": "@jupyter-widgets/output",
          "model_name": "OutputModel",
          "model_module_version": "1.0.0",
          "state": {
            "_dom_classes": [],
            "_model_module": "@jupyter-widgets/output",
            "_model_module_version": "1.0.0",
            "_model_name": "OutputModel",
            "_view_count": null,
            "_view_module": "@jupyter-widgets/output",
            "_view_module_version": "1.0.0",
            "_view_name": "OutputView",
            "layout": "IPY_MODEL_140a6113d1714b3fa29f31d30e215b8f",
            "msg_id": "",
            "outputs": [
              {
                "output_type": "stream",
                "name": "stdout",
                "text": [
                  "Average price for Chennai Super Kings: 0.7580000000000001\n"
                ]
              }
            ]
          }
        },
        "e2e2ad03e89b4f259efa2f0d09c0a227": {
          "model_module": "@jupyter-widgets/base",
          "model_name": "LayoutModel",
          "model_module_version": "1.2.0",
          "state": {
            "_model_module": "@jupyter-widgets/base",
            "_model_module_version": "1.2.0",
            "_model_name": "LayoutModel",
            "_view_count": null,
            "_view_module": "@jupyter-widgets/base",
            "_view_module_version": "1.2.0",
            "_view_name": "LayoutView",
            "align_content": null,
            "align_items": null,
            "align_self": null,
            "border": null,
            "bottom": null,
            "display": null,
            "flex": null,
            "flex_flow": null,
            "grid_area": null,
            "grid_auto_columns": null,
            "grid_auto_flow": null,
            "grid_auto_rows": null,
            "grid_column": null,
            "grid_gap": null,
            "grid_row": null,
            "grid_template_areas": null,
            "grid_template_columns": null,
            "grid_template_rows": null,
            "height": null,
            "justify_content": null,
            "justify_items": null,
            "left": null,
            "margin": null,
            "max_height": null,
            "max_width": null,
            "min_height": null,
            "min_width": null,
            "object_fit": null,
            "object_position": null,
            "order": null,
            "overflow": null,
            "overflow_x": null,
            "overflow_y": null,
            "padding": null,
            "right": null,
            "top": null,
            "visibility": null,
            "width": null
          }
        },
        "3f2b1a052e9040dc950b4a94add1febb": {
          "model_module": "@jupyter-widgets/base",
          "model_name": "LayoutModel",
          "model_module_version": "1.2.0",
          "state": {
            "_model_module": "@jupyter-widgets/base",
            "_model_module_version": "1.2.0",
            "_model_name": "LayoutModel",
            "_view_count": null,
            "_view_module": "@jupyter-widgets/base",
            "_view_module_version": "1.2.0",
            "_view_name": "LayoutView",
            "align_content": null,
            "align_items": null,
            "align_self": null,
            "border": null,
            "bottom": null,
            "display": null,
            "flex": null,
            "flex_flow": null,
            "grid_area": null,
            "grid_auto_columns": null,
            "grid_auto_flow": null,
            "grid_auto_rows": null,
            "grid_column": null,
            "grid_gap": null,
            "grid_row": null,
            "grid_template_areas": null,
            "grid_template_columns": null,
            "grid_template_rows": null,
            "height": null,
            "justify_content": null,
            "justify_items": null,
            "left": null,
            "margin": null,
            "max_height": null,
            "max_width": null,
            "min_height": null,
            "min_width": null,
            "object_fit": null,
            "object_position": null,
            "order": null,
            "overflow": null,
            "overflow_x": null,
            "overflow_y": null,
            "padding": null,
            "right": null,
            "top": null,
            "visibility": null,
            "width": null
          }
        },
        "38bc93be5eaf4f1bbceb04a32cc63f3c": {
          "model_module": "@jupyter-widgets/controls",
          "model_name": "DescriptionStyleModel",
          "model_module_version": "1.5.0",
          "state": {
            "_model_module": "@jupyter-widgets/controls",
            "_model_module_version": "1.5.0",
            "_model_name": "DescriptionStyleModel",
            "_view_count": null,
            "_view_module": "@jupyter-widgets/base",
            "_view_module_version": "1.2.0",
            "_view_name": "StyleView",
            "description_width": ""
          }
        },
        "140a6113d1714b3fa29f31d30e215b8f": {
          "model_module": "@jupyter-widgets/base",
          "model_name": "LayoutModel",
          "model_module_version": "1.2.0",
          "state": {
            "_model_module": "@jupyter-widgets/base",
            "_model_module_version": "1.2.0",
            "_model_name": "LayoutModel",
            "_view_count": null,
            "_view_module": "@jupyter-widgets/base",
            "_view_module_version": "1.2.0",
            "_view_name": "LayoutView",
            "align_content": null,
            "align_items": null,
            "align_self": null,
            "border": null,
            "bottom": null,
            "display": null,
            "flex": null,
            "flex_flow": null,
            "grid_area": null,
            "grid_auto_columns": null,
            "grid_auto_flow": null,
            "grid_auto_rows": null,
            "grid_column": null,
            "grid_gap": null,
            "grid_row": null,
            "grid_template_areas": null,
            "grid_template_columns": null,
            "grid_template_rows": null,
            "height": null,
            "justify_content": null,
            "justify_items": null,
            "left": null,
            "margin": null,
            "max_height": null,
            "max_width": null,
            "min_height": null,
            "min_width": null,
            "object_fit": null,
            "object_position": null,
            "order": null,
            "overflow": null,
            "overflow_x": null,
            "overflow_y": null,
            "padding": null,
            "right": null,
            "top": null,
            "visibility": null,
            "width": null
          }
        },
        "2fc998c3458e46928594fe020f4b961b": {
          "model_module": "@jupyter-widgets/controls",
          "model_name": "VBoxModel",
          "model_module_version": "1.5.0",
          "state": {
            "_dom_classes": [
              "widget-interact"
            ],
            "_model_module": "@jupyter-widgets/controls",
            "_model_module_version": "1.5.0",
            "_model_name": "VBoxModel",
            "_view_count": null,
            "_view_module": "@jupyter-widgets/controls",
            "_view_module_version": "1.5.0",
            "_view_name": "VBoxView",
            "box_style": "",
            "children": [
              "IPY_MODEL_41c89d78ac6d4a68873e49259fddbbf2",
              "IPY_MODEL_9222201741e0472ebf49dee8a4d67e33"
            ],
            "layout": "IPY_MODEL_361e086b9a9b4e2f83a198ee2e303195"
          }
        },
        "41c89d78ac6d4a68873e49259fddbbf2": {
          "model_module": "@jupyter-widgets/controls",
          "model_name": "DropdownModel",
          "model_module_version": "1.5.0",
          "state": {
            "_dom_classes": [],
            "_model_module": "@jupyter-widgets/controls",
            "_model_module_version": "1.5.0",
            "_model_name": "DropdownModel",
            "_options_labels": [
              "Gujarat Titans",
              "Chennai Super Kings",
              "Delhi Capitals",
              "Kolkata Knight Riders",
              "Punjab Kings",
              "Lucknow Super Giants",
              "Mumbai Indians",
              "Royal Challengers Bangalore",
              "Rajasthan Royals",
              "Sunrisers Hyderabad",
              "Unsold"
            ],
            "_view_count": null,
            "_view_module": "@jupyter-widgets/controls",
            "_view_module_version": "1.5.0",
            "_view_name": "DropdownView",
            "description": "Select Team:",
            "description_tooltip": null,
            "disabled": false,
            "index": 1,
            "layout": "IPY_MODEL_3f5f6490e7ae44668ed30129583fd820",
            "style": "IPY_MODEL_a25c7aa0233b4408a88766be06d7f7b5"
          }
        },
        "9222201741e0472ebf49dee8a4d67e33": {
          "model_module": "@jupyter-widgets/output",
          "model_name": "OutputModel",
          "model_module_version": "1.0.0",
          "state": {
            "_dom_classes": [],
            "_model_module": "@jupyter-widgets/output",
            "_model_module_version": "1.0.0",
            "_model_name": "OutputModel",
            "_view_count": null,
            "_view_module": "@jupyter-widgets/output",
            "_view_module_version": "1.0.0",
            "_view_name": "OutputView",
            "layout": "IPY_MODEL_bee6dd8cf45c44a5b319da501271338a",
            "msg_id": "",
            "outputs": [
              {
                "output_type": "display_data",
                "data": {
                  "text/plain": "<IPython.core.display.HTML object>",
                  "text/html": "<b>Average Sold Price for Chennai Super Kings:</b> <span style='color:green;font-size:20px;'>₹0.76 CR.</span>"
                },
                "metadata": {}
              },
              {
                "output_type": "stream",
                "name": "stderr",
                "text": [
                  "<ipython-input-29-4ca0e0df7429>:23: FutureWarning:\n",
                  "\n",
                  "\n",
                  "\n",
                  "Passing `palette` without assigning `hue` is deprecated and will be removed in v0.14.0. Assign the `x` variable to `hue` and set `legend=False` for the same effect.\n",
                  "\n",
                  "\n"
                ]
              },
              {
                "output_type": "display_data",
                "data": {
                  "text/plain": "<Figure size 800x500 with 1 Axes>",
                  "image/png": "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\n"
                },
                "metadata": {}
              }
            ]
          }
        },
        "361e086b9a9b4e2f83a198ee2e303195": {
          "model_module": "@jupyter-widgets/base",
          "model_name": "LayoutModel",
          "model_module_version": "1.2.0",
          "state": {
            "_model_module": "@jupyter-widgets/base",
            "_model_module_version": "1.2.0",
            "_model_name": "LayoutModel",
            "_view_count": null,
            "_view_module": "@jupyter-widgets/base",
            "_view_module_version": "1.2.0",
            "_view_name": "LayoutView",
            "align_content": null,
            "align_items": null,
            "align_self": null,
            "border": null,
            "bottom": null,
            "display": null,
            "flex": null,
            "flex_flow": null,
            "grid_area": null,
            "grid_auto_columns": null,
            "grid_auto_flow": null,
            "grid_auto_rows": null,
            "grid_column": null,
            "grid_gap": null,
            "grid_row": null,
            "grid_template_areas": null,
            "grid_template_columns": null,
            "grid_template_rows": null,
            "height": null,
            "justify_content": null,
            "justify_items": null,
            "left": null,
            "margin": null,
            "max_height": null,
            "max_width": null,
            "min_height": null,
            "min_width": null,
            "object_fit": null,
            "object_position": null,
            "order": null,
            "overflow": null,
            "overflow_x": null,
            "overflow_y": null,
            "padding": null,
            "right": null,
            "top": null,
            "visibility": null,
            "width": null
          }
        },
        "3f5f6490e7ae44668ed30129583fd820": {
          "model_module": "@jupyter-widgets/base",
          "model_name": "LayoutModel",
          "model_module_version": "1.2.0",
          "state": {
            "_model_module": "@jupyter-widgets/base",
            "_model_module_version": "1.2.0",
            "_model_name": "LayoutModel",
            "_view_count": null,
            "_view_module": "@jupyter-widgets/base",
            "_view_module_version": "1.2.0",
            "_view_name": "LayoutView",
            "align_content": null,
            "align_items": null,
            "align_self": null,
            "border": null,
            "bottom": null,
            "display": null,
            "flex": null,
            "flex_flow": null,
            "grid_area": null,
            "grid_auto_columns": null,
            "grid_auto_flow": null,
            "grid_auto_rows": null,
            "grid_column": null,
            "grid_gap": null,
            "grid_row": null,
            "grid_template_areas": null,
            "grid_template_columns": null,
            "grid_template_rows": null,
            "height": null,
            "justify_content": null,
            "justify_items": null,
            "left": null,
            "margin": null,
            "max_height": null,
            "max_width": null,
            "min_height": null,
            "min_width": null,
            "object_fit": null,
            "object_position": null,
            "order": null,
            "overflow": null,
            "overflow_x": null,
            "overflow_y": null,
            "padding": null,
            "right": null,
            "top": null,
            "visibility": null,
            "width": "50%"
          }
        },
        "a25c7aa0233b4408a88766be06d7f7b5": {
          "model_module": "@jupyter-widgets/controls",
          "model_name": "DescriptionStyleModel",
          "model_module_version": "1.5.0",
          "state": {
            "_model_module": "@jupyter-widgets/controls",
            "_model_module_version": "1.5.0",
            "_model_name": "DescriptionStyleModel",
            "_view_count": null,
            "_view_module": "@jupyter-widgets/base",
            "_view_module_version": "1.2.0",
            "_view_name": "StyleView",
            "description_width": "initial"
          }
        },
        "bee6dd8cf45c44a5b319da501271338a": {
          "model_module": "@jupyter-widgets/base",
          "model_name": "LayoutModel",
          "model_module_version": "1.2.0",
          "state": {
            "_model_module": "@jupyter-widgets/base",
            "_model_module_version": "1.2.0",
            "_model_name": "LayoutModel",
            "_view_count": null,
            "_view_module": "@jupyter-widgets/base",
            "_view_module_version": "1.2.0",
            "_view_name": "LayoutView",
            "align_content": null,
            "align_items": null,
            "align_self": null,
            "border": null,
            "bottom": null,
            "display": null,
            "flex": null,
            "flex_flow": null,
            "grid_area": null,
            "grid_auto_columns": null,
            "grid_auto_flow": null,
            "grid_auto_rows": null,
            "grid_column": null,
            "grid_gap": null,
            "grid_row": null,
            "grid_template_areas": null,
            "grid_template_columns": null,
            "grid_template_rows": null,
            "height": null,
            "justify_content": null,
            "justify_items": null,
            "left": null,
            "margin": null,
            "max_height": null,
            "max_width": null,
            "min_height": null,
            "min_width": null,
            "object_fit": null,
            "object_position": null,
            "order": null,
            "overflow": null,
            "overflow_x": null,
            "overflow_y": null,
            "padding": null,
            "right": null,
            "top": null,
            "visibility": null,
            "width": null
          }
        }
      }
    }
  },
  "cells": [
    {
      "cell_type": "code",
      "execution_count": 3,
      "metadata": {
        "colab": {
          "base_uri": "https://localhost:8080/"
        },
        "collapsed": true,
        "id": "5gELTIkr-2cP",
        "outputId": "ab86cef2-0b50-4eb4-ec4d-e836797211c5"
      },
      "outputs": [
        {
          "output_type": "stream",
          "name": "stdout",
          "text": [
            "Requirement already satisfied: pandas in /usr/local/lib/python3.10/dist-packages (1.5.3)\n",
            "Requirement already satisfied: matplotlib in /usr/local/lib/python3.10/dist-packages (3.7.1)\n",
            "Requirement already satisfied: seaborn in /usr/local/lib/python3.10/dist-packages (0.13.1)\n",
            "Requirement already satisfied: plotly in /usr/local/lib/python3.10/dist-packages (5.24.1)\n",
            "Requirement already satisfied: ipywidgets in /usr/local/lib/python3.10/dist-packages (7.7.1)\n",
            "Requirement already satisfied: python-dateutil>=2.8.1 in /usr/local/lib/python3.10/dist-packages (from pandas) (2.8.2)\n",
            "Requirement already satisfied: pytz>=2020.1 in /usr/local/lib/python3.10/dist-packages (from pandas) (2024.2)\n",
            "Requirement already satisfied: numpy>=1.21.0 in /usr/local/lib/python3.10/dist-packages (from pandas) (1.26.4)\n",
            "Requirement already satisfied: contourpy>=1.0.1 in /usr/local/lib/python3.10/dist-packages (from matplotlib) (1.3.0)\n",
            "Requirement already satisfied: cycler>=0.10 in /usr/local/lib/python3.10/dist-packages (from matplotlib) (0.12.1)\n",
            "Requirement already satisfied: fonttools>=4.22.0 in /usr/local/lib/python3.10/dist-packages (from matplotlib) (4.54.1)\n",
            "Requirement already satisfied: kiwisolver>=1.0.1 in /usr/local/lib/python3.10/dist-packages (from matplotlib) (1.4.7)\n",
            "Requirement already satisfied: packaging>=20.0 in /usr/local/lib/python3.10/dist-packages (from matplotlib) (24.1)\n",
            "Requirement already satisfied: pillow>=6.2.0 in /usr/local/lib/python3.10/dist-packages (from matplotlib) (10.4.0)\n",
            "Requirement already satisfied: pyparsing>=2.3.1 in /usr/local/lib/python3.10/dist-packages (from matplotlib) (3.1.4)\n",
            "Requirement already satisfied: tenacity>=6.2.0 in /usr/local/lib/python3.10/dist-packages (from plotly) (9.0.0)\n",
            "Requirement already satisfied: ipykernel>=4.5.1 in /usr/local/lib/python3.10/dist-packages (from ipywidgets) (5.5.6)\n",
            "Requirement already satisfied: ipython-genutils~=0.2.0 in /usr/local/lib/python3.10/dist-packages (from ipywidgets) (0.2.0)\n",
            "Requirement already satisfied: traitlets>=4.3.1 in /usr/local/lib/python3.10/dist-packages (from ipywidgets) (5.7.1)\n",
            "Requirement already satisfied: widgetsnbextension~=3.6.0 in /usr/local/lib/python3.10/dist-packages (from ipywidgets) (3.6.9)\n",
            "Requirement already satisfied: ipython>=4.0.0 in /usr/local/lib/python3.10/dist-packages (from ipywidgets) (7.34.0)\n",
            "Requirement already satisfied: jupyterlab-widgets>=1.0.0 in /usr/local/lib/python3.10/dist-packages (from ipywidgets) (3.0.13)\n",
            "Requirement already satisfied: jupyter-client in /usr/local/lib/python3.10/dist-packages (from ipykernel>=4.5.1->ipywidgets) (6.1.12)\n",
            "Requirement already satisfied: tornado>=4.2 in /usr/local/lib/python3.10/dist-packages (from ipykernel>=4.5.1->ipywidgets) (6.3.3)\n",
            "Requirement already satisfied: setuptools>=18.5 in /usr/local/lib/python3.10/dist-packages (from ipython>=4.0.0->ipywidgets) (71.0.4)\n",
            "Collecting jedi>=0.16 (from ipython>=4.0.0->ipywidgets)\n",
            "  Using cached jedi-0.19.1-py2.py3-none-any.whl.metadata (22 kB)\n",
            "Requirement already satisfied: decorator in /usr/local/lib/python3.10/dist-packages (from ipython>=4.0.0->ipywidgets) (4.4.2)\n",
            "Requirement already satisfied: pickleshare in /usr/local/lib/python3.10/dist-packages (from ipython>=4.0.0->ipywidgets) (0.7.5)\n",
            "Requirement already satisfied: prompt-toolkit!=3.0.0,!=3.0.1,<3.1.0,>=2.0.0 in /usr/local/lib/python3.10/dist-packages (from ipython>=4.0.0->ipywidgets) (3.0.48)\n",
            "Requirement already satisfied: pygments in /usr/local/lib/python3.10/dist-packages (from ipython>=4.0.0->ipywidgets) (2.18.0)\n",
            "Requirement already satisfied: backcall in /usr/local/lib/python3.10/dist-packages (from ipython>=4.0.0->ipywidgets) (0.2.0)\n",
            "Requirement already satisfied: matplotlib-inline in /usr/local/lib/python3.10/dist-packages (from ipython>=4.0.0->ipywidgets) (0.1.7)\n",
            "Requirement already satisfied: pexpect>4.3 in /usr/local/lib/python3.10/dist-packages (from ipython>=4.0.0->ipywidgets) (4.9.0)\n",
            "Requirement already satisfied: six>=1.5 in /usr/local/lib/python3.10/dist-packages (from python-dateutil>=2.8.1->pandas) (1.16.0)\n",
            "Requirement already satisfied: notebook>=4.4.1 in /usr/local/lib/python3.10/dist-packages (from widgetsnbextension~=3.6.0->ipywidgets) (6.5.5)\n",
            "Requirement already satisfied: parso<0.9.0,>=0.8.3 in /usr/local/lib/python3.10/dist-packages (from jedi>=0.16->ipython>=4.0.0->ipywidgets) (0.8.4)\n",
            "Requirement already satisfied: jinja2 in /usr/local/lib/python3.10/dist-packages (from notebook>=4.4.1->widgetsnbextension~=3.6.0->ipywidgets) (3.1.4)\n",
            "Requirement already satisfied: pyzmq<25,>=17 in /usr/local/lib/python3.10/dist-packages (from notebook>=4.4.1->widgetsnbextension~=3.6.0->ipywidgets) (24.0.1)\n",
            "Requirement already satisfied: argon2-cffi in /usr/local/lib/python3.10/dist-packages (from notebook>=4.4.1->widgetsnbextension~=3.6.0->ipywidgets) (23.1.0)\n",
            "Requirement already satisfied: jupyter-core>=4.6.1 in /usr/local/lib/python3.10/dist-packages (from notebook>=4.4.1->widgetsnbextension~=3.6.0->ipywidgets) (5.7.2)\n",
            "Requirement already satisfied: nbformat in /usr/local/lib/python3.10/dist-packages (from notebook>=4.4.1->widgetsnbextension~=3.6.0->ipywidgets) (5.10.4)\n",
            "Requirement already satisfied: nbconvert>=5 in /usr/local/lib/python3.10/dist-packages (from notebook>=4.4.1->widgetsnbextension~=3.6.0->ipywidgets) (6.5.4)\n",
            "Requirement already satisfied: nest-asyncio>=1.5 in /usr/local/lib/python3.10/dist-packages (from notebook>=4.4.1->widgetsnbextension~=3.6.0->ipywidgets) (1.6.0)\n",
            "Requirement already satisfied: Send2Trash>=1.8.0 in /usr/local/lib/python3.10/dist-packages (from notebook>=4.4.1->widgetsnbextension~=3.6.0->ipywidgets) (1.8.3)\n",
            "Requirement already satisfied: terminado>=0.8.3 in /usr/local/lib/python3.10/dist-packages (from notebook>=4.4.1->widgetsnbextension~=3.6.0->ipywidgets) (0.18.1)\n",
            "Requirement already satisfied: prometheus-client in /usr/local/lib/python3.10/dist-packages (from notebook>=4.4.1->widgetsnbextension~=3.6.0->ipywidgets) (0.21.0)\n",
            "Requirement already satisfied: nbclassic>=0.4.7 in /usr/local/lib/python3.10/dist-packages (from notebook>=4.4.1->widgetsnbextension~=3.6.0->ipywidgets) (1.1.0)\n",
            "Requirement already satisfied: ptyprocess>=0.5 in /usr/local/lib/python3.10/dist-packages (from pexpect>4.3->ipython>=4.0.0->ipywidgets) (0.7.0)\n",
            "Requirement already satisfied: wcwidth in /usr/local/lib/python3.10/dist-packages (from prompt-toolkit!=3.0.0,!=3.0.1,<3.1.0,>=2.0.0->ipython>=4.0.0->ipywidgets) (0.2.13)\n",
            "Requirement already satisfied: platformdirs>=2.5 in /usr/local/lib/python3.10/dist-packages (from jupyter-core>=4.6.1->notebook>=4.4.1->widgetsnbextension~=3.6.0->ipywidgets) (4.3.6)\n",
            "Requirement already satisfied: notebook-shim>=0.2.3 in /usr/local/lib/python3.10/dist-packages (from nbclassic>=0.4.7->notebook>=4.4.1->widgetsnbextension~=3.6.0->ipywidgets) (0.2.4)\n",
            "Requirement already satisfied: lxml in /usr/local/lib/python3.10/dist-packages (from nbconvert>=5->notebook>=4.4.1->widgetsnbextension~=3.6.0->ipywidgets) (4.9.4)\n",
            "Requirement already satisfied: beautifulsoup4 in /usr/local/lib/python3.10/dist-packages (from nbconvert>=5->notebook>=4.4.1->widgetsnbextension~=3.6.0->ipywidgets) (4.12.3)\n",
            "Requirement already satisfied: bleach in /usr/local/lib/python3.10/dist-packages (from nbconvert>=5->notebook>=4.4.1->widgetsnbextension~=3.6.0->ipywidgets) (6.1.0)\n",
            "Requirement already satisfied: defusedxml in /usr/local/lib/python3.10/dist-packages (from nbconvert>=5->notebook>=4.4.1->widgetsnbextension~=3.6.0->ipywidgets) (0.7.1)\n",
            "Requirement already satisfied: entrypoints>=0.2.2 in /usr/local/lib/python3.10/dist-packages (from nbconvert>=5->notebook>=4.4.1->widgetsnbextension~=3.6.0->ipywidgets) (0.4)\n",
            "Requirement already satisfied: jupyterlab-pygments in /usr/local/lib/python3.10/dist-packages (from nbconvert>=5->notebook>=4.4.1->widgetsnbextension~=3.6.0->ipywidgets) (0.3.0)\n",
            "Requirement already satisfied: MarkupSafe>=2.0 in /usr/local/lib/python3.10/dist-packages (from nbconvert>=5->notebook>=4.4.1->widgetsnbextension~=3.6.0->ipywidgets) (2.1.5)\n",
            "Requirement already satisfied: mistune<2,>=0.8.1 in /usr/local/lib/python3.10/dist-packages (from nbconvert>=5->notebook>=4.4.1->widgetsnbextension~=3.6.0->ipywidgets) (0.8.4)\n",
            "Requirement already satisfied: nbclient>=0.5.0 in /usr/local/lib/python3.10/dist-packages (from nbconvert>=5->notebook>=4.4.1->widgetsnbextension~=3.6.0->ipywidgets) (0.10.0)\n",
            "Requirement already satisfied: pandocfilters>=1.4.1 in /usr/local/lib/python3.10/dist-packages (from nbconvert>=5->notebook>=4.4.1->widgetsnbextension~=3.6.0->ipywidgets) (1.5.1)\n",
            "Requirement already satisfied: tinycss2 in /usr/local/lib/python3.10/dist-packages (from nbconvert>=5->notebook>=4.4.1->widgetsnbextension~=3.6.0->ipywidgets) (1.3.0)\n",
            "Requirement already satisfied: fastjsonschema>=2.15 in /usr/local/lib/python3.10/dist-packages (from nbformat->notebook>=4.4.1->widgetsnbextension~=3.6.0->ipywidgets) (2.20.0)\n",
            "Requirement already satisfied: jsonschema>=2.6 in /usr/local/lib/python3.10/dist-packages (from nbformat->notebook>=4.4.1->widgetsnbextension~=3.6.0->ipywidgets) (4.23.0)\n",
            "Requirement already satisfied: argon2-cffi-bindings in /usr/local/lib/python3.10/dist-packages (from argon2-cffi->notebook>=4.4.1->widgetsnbextension~=3.6.0->ipywidgets) (21.2.0)\n",
            "Requirement already satisfied: attrs>=22.2.0 in /usr/local/lib/python3.10/dist-packages (from jsonschema>=2.6->nbformat->notebook>=4.4.1->widgetsnbextension~=3.6.0->ipywidgets) (24.2.0)\n",
            "Requirement already satisfied: jsonschema-specifications>=2023.03.6 in /usr/local/lib/python3.10/dist-packages (from jsonschema>=2.6->nbformat->notebook>=4.4.1->widgetsnbextension~=3.6.0->ipywidgets) (2023.12.1)\n",
            "Requirement already satisfied: referencing>=0.28.4 in /usr/local/lib/python3.10/dist-packages (from jsonschema>=2.6->nbformat->notebook>=4.4.1->widgetsnbextension~=3.6.0->ipywidgets) (0.35.1)\n",
            "Requirement already satisfied: rpds-py>=0.7.1 in /usr/local/lib/python3.10/dist-packages (from jsonschema>=2.6->nbformat->notebook>=4.4.1->widgetsnbextension~=3.6.0->ipywidgets) (0.20.0)\n",
            "Requirement already satisfied: jupyter-server<3,>=1.8 in /usr/local/lib/python3.10/dist-packages (from notebook-shim>=0.2.3->nbclassic>=0.4.7->notebook>=4.4.1->widgetsnbextension~=3.6.0->ipywidgets) (1.24.0)\n",
            "Requirement already satisfied: cffi>=1.0.1 in /usr/local/lib/python3.10/dist-packages (from argon2-cffi-bindings->argon2-cffi->notebook>=4.4.1->widgetsnbextension~=3.6.0->ipywidgets) (1.17.1)\n",
            "Requirement already satisfied: soupsieve>1.2 in /usr/local/lib/python3.10/dist-packages (from beautifulsoup4->nbconvert>=5->notebook>=4.4.1->widgetsnbextension~=3.6.0->ipywidgets) (2.6)\n",
            "Requirement already satisfied: webencodings in /usr/local/lib/python3.10/dist-packages (from bleach->nbconvert>=5->notebook>=4.4.1->widgetsnbextension~=3.6.0->ipywidgets) (0.5.1)\n",
            "Requirement already satisfied: pycparser in /usr/local/lib/python3.10/dist-packages (from cffi>=1.0.1->argon2-cffi-bindings->argon2-cffi->notebook>=4.4.1->widgetsnbextension~=3.6.0->ipywidgets) (2.22)\n",
            "Requirement already satisfied: anyio<4,>=3.1.0 in /usr/local/lib/python3.10/dist-packages (from jupyter-server<3,>=1.8->notebook-shim>=0.2.3->nbclassic>=0.4.7->notebook>=4.4.1->widgetsnbextension~=3.6.0->ipywidgets) (3.7.1)\n",
            "Requirement already satisfied: websocket-client in /usr/local/lib/python3.10/dist-packages (from jupyter-server<3,>=1.8->notebook-shim>=0.2.3->nbclassic>=0.4.7->notebook>=4.4.1->widgetsnbextension~=3.6.0->ipywidgets) (1.8.0)\n",
            "Requirement already satisfied: idna>=2.8 in /usr/local/lib/python3.10/dist-packages (from anyio<4,>=3.1.0->jupyter-server<3,>=1.8->notebook-shim>=0.2.3->nbclassic>=0.4.7->notebook>=4.4.1->widgetsnbextension~=3.6.0->ipywidgets) (3.10)\n",
            "Requirement already satisfied: sniffio>=1.1 in /usr/local/lib/python3.10/dist-packages (from anyio<4,>=3.1.0->jupyter-server<3,>=1.8->notebook-shim>=0.2.3->nbclassic>=0.4.7->notebook>=4.4.1->widgetsnbextension~=3.6.0->ipywidgets) (1.3.1)\n",
            "Requirement already satisfied: exceptiongroup in /usr/local/lib/python3.10/dist-packages (from anyio<4,>=3.1.0->jupyter-server<3,>=1.8->notebook-shim>=0.2.3->nbclassic>=0.4.7->notebook>=4.4.1->widgetsnbextension~=3.6.0->ipywidgets) (1.2.2)\n",
            "Using cached jedi-0.19.1-py2.py3-none-any.whl (1.6 MB)\n",
            "Installing collected packages: jedi\n",
            "Successfully installed jedi-0.19.1\n"
          ]
        }
      ],
      "source": [
        "!pip install pandas matplotlib seaborn plotly ipywidgets"
      ]
    },
    {
      "cell_type": "code",
      "source": [
        "import pandas as pd\n",
        "import matplotlib.pyplot as plt\n",
        "import seaborn as sns\n",
        "import plotly.express as px\n",
        "import ipywidgets as widgets\n",
        "from IPython.display import display"
      ],
      "metadata": {
        "id": "1Fwm5GMWAh39"
      },
      "execution_count": 4,
      "outputs": []
    },
    {
      "cell_type": "code",
      "source": [
        "from google.colab import files\n",
        "uploaded = files.upload()\n",
        "\n",
        "\n",
        "df = pd.read_csv(list(uploaded.keys())[0])"
      ],
      "metadata": {
        "colab": {
          "base_uri": "https://localhost:8080/",
          "height": 73
        },
        "id": "67uRnWdMBQjo",
        "outputId": "af90bbe8-3b20-4922-b1fc-2a938c8e5cdc"
      },
      "execution_count": 7,
      "outputs": [
        {
          "output_type": "display_data",
          "data": {
            "text/plain": [
              "<IPython.core.display.HTML object>"
            ],
            "text/html": [
              "\n",
              "     <input type=\"file\" id=\"files-5e693f51-5a85-42a0-98ab-7fde3f7a9bda\" name=\"files[]\" multiple disabled\n",
              "        style=\"border:none\" />\n",
              "     <output id=\"result-5e693f51-5a85-42a0-98ab-7fde3f7a9bda\">\n",
              "      Upload widget is only available when the cell has been executed in the\n",
              "      current browser session. Please rerun this cell to enable.\n",
              "      </output>\n",
              "      <script>// Copyright 2017 Google LLC\n",
              "//\n",
              "// Licensed under the Apache License, Version 2.0 (the \"License\");\n",
              "// you may not use this file except in compliance with the License.\n",
              "// You may obtain a copy of the License at\n",
              "//\n",
              "//      http://www.apache.org/licenses/LICENSE-2.0\n",
              "//\n",
              "// Unless required by applicable law or agreed to in writing, software\n",
              "// distributed under the License is distributed on an \"AS IS\" BASIS,\n",
              "// WITHOUT WARRANTIES OR CONDITIONS OF ANY KIND, either express or implied.\n",
              "// See the License for the specific language governing permissions and\n",
              "// limitations under the License.\n",
              "\n",
              "/**\n",
              " * @fileoverview Helpers for google.colab Python module.\n",
              " */\n",
              "(function(scope) {\n",
              "function span(text, styleAttributes = {}) {\n",
              "  const element = document.createElement('span');\n",
              "  element.textContent = text;\n",
              "  for (const key of Object.keys(styleAttributes)) {\n",
              "    element.style[key] = styleAttributes[key];\n",
              "  }\n",
              "  return element;\n",
              "}\n",
              "\n",
              "// Max number of bytes which will be uploaded at a time.\n",
              "const MAX_PAYLOAD_SIZE = 100 * 1024;\n",
              "\n",
              "function _uploadFiles(inputId, outputId) {\n",
              "  const steps = uploadFilesStep(inputId, outputId);\n",
              "  const outputElement = document.getElementById(outputId);\n",
              "  // Cache steps on the outputElement to make it available for the next call\n",
              "  // to uploadFilesContinue from Python.\n",
              "  outputElement.steps = steps;\n",
              "\n",
              "  return _uploadFilesContinue(outputId);\n",
              "}\n",
              "\n",
              "// This is roughly an async generator (not supported in the browser yet),\n",
              "// where there are multiple asynchronous steps and the Python side is going\n",
              "// to poll for completion of each step.\n",
              "// This uses a Promise to block the python side on completion of each step,\n",
              "// then passes the result of the previous step as the input to the next step.\n",
              "function _uploadFilesContinue(outputId) {\n",
              "  const outputElement = document.getElementById(outputId);\n",
              "  const steps = outputElement.steps;\n",
              "\n",
              "  const next = steps.next(outputElement.lastPromiseValue);\n",
              "  return Promise.resolve(next.value.promise).then((value) => {\n",
              "    // Cache the last promise value to make it available to the next\n",
              "    // step of the generator.\n",
              "    outputElement.lastPromiseValue = value;\n",
              "    return next.value.response;\n",
              "  });\n",
              "}\n",
              "\n",
              "/**\n",
              " * Generator function which is called between each async step of the upload\n",
              " * process.\n",
              " * @param {string} inputId Element ID of the input file picker element.\n",
              " * @param {string} outputId Element ID of the output display.\n",
              " * @return {!Iterable<!Object>} Iterable of next steps.\n",
              " */\n",
              "function* uploadFilesStep(inputId, outputId) {\n",
              "  const inputElement = document.getElementById(inputId);\n",
              "  inputElement.disabled = false;\n",
              "\n",
              "  const outputElement = document.getElementById(outputId);\n",
              "  outputElement.innerHTML = '';\n",
              "\n",
              "  const pickedPromise = new Promise((resolve) => {\n",
              "    inputElement.addEventListener('change', (e) => {\n",
              "      resolve(e.target.files);\n",
              "    });\n",
              "  });\n",
              "\n",
              "  const cancel = document.createElement('button');\n",
              "  inputElement.parentElement.appendChild(cancel);\n",
              "  cancel.textContent = 'Cancel upload';\n",
              "  const cancelPromise = new Promise((resolve) => {\n",
              "    cancel.onclick = () => {\n",
              "      resolve(null);\n",
              "    };\n",
              "  });\n",
              "\n",
              "  // Wait for the user to pick the files.\n",
              "  const files = yield {\n",
              "    promise: Promise.race([pickedPromise, cancelPromise]),\n",
              "    response: {\n",
              "      action: 'starting',\n",
              "    }\n",
              "  };\n",
              "\n",
              "  cancel.remove();\n",
              "\n",
              "  // Disable the input element since further picks are not allowed.\n",
              "  inputElement.disabled = true;\n",
              "\n",
              "  if (!files) {\n",
              "    return {\n",
              "      response: {\n",
              "        action: 'complete',\n",
              "      }\n",
              "    };\n",
              "  }\n",
              "\n",
              "  for (const file of files) {\n",
              "    const li = document.createElement('li');\n",
              "    li.append(span(file.name, {fontWeight: 'bold'}));\n",
              "    li.append(span(\n",
              "        `(${file.type || 'n/a'}) - ${file.size} bytes, ` +\n",
              "        `last modified: ${\n",
              "            file.lastModifiedDate ? file.lastModifiedDate.toLocaleDateString() :\n",
              "                                    'n/a'} - `));\n",
              "    const percent = span('0% done');\n",
              "    li.appendChild(percent);\n",
              "\n",
              "    outputElement.appendChild(li);\n",
              "\n",
              "    const fileDataPromise = new Promise((resolve) => {\n",
              "      const reader = new FileReader();\n",
              "      reader.onload = (e) => {\n",
              "        resolve(e.target.result);\n",
              "      };\n",
              "      reader.readAsArrayBuffer(file);\n",
              "    });\n",
              "    // Wait for the data to be ready.\n",
              "    let fileData = yield {\n",
              "      promise: fileDataPromise,\n",
              "      response: {\n",
              "        action: 'continue',\n",
              "      }\n",
              "    };\n",
              "\n",
              "    // Use a chunked sending to avoid message size limits. See b/62115660.\n",
              "    let position = 0;\n",
              "    do {\n",
              "      const length = Math.min(fileData.byteLength - position, MAX_PAYLOAD_SIZE);\n",
              "      const chunk = new Uint8Array(fileData, position, length);\n",
              "      position += length;\n",
              "\n",
              "      const base64 = btoa(String.fromCharCode.apply(null, chunk));\n",
              "      yield {\n",
              "        response: {\n",
              "          action: 'append',\n",
              "          file: file.name,\n",
              "          data: base64,\n",
              "        },\n",
              "      };\n",
              "\n",
              "      let percentDone = fileData.byteLength === 0 ?\n",
              "          100 :\n",
              "          Math.round((position / fileData.byteLength) * 100);\n",
              "      percent.textContent = `${percentDone}% done`;\n",
              "\n",
              "    } while (position < fileData.byteLength);\n",
              "  }\n",
              "\n",
              "  // All done.\n",
              "  yield {\n",
              "    response: {\n",
              "      action: 'complete',\n",
              "    }\n",
              "  };\n",
              "}\n",
              "\n",
              "scope.google = scope.google || {};\n",
              "scope.google.colab = scope.google.colab || {};\n",
              "scope.google.colab._files = {\n",
              "  _uploadFiles,\n",
              "  _uploadFilesContinue,\n",
              "};\n",
              "})(self);\n",
              "</script> "
            ]
          },
          "metadata": {}
        },
        {
          "output_type": "stream",
          "name": "stdout",
          "text": [
            "Saving IPL_2023_DATASET.csv to IPL_2023_DATASET (1).csv\n"
          ]
        }
      ]
    },
    {
      "cell_type": "code",
      "source": [
        "df.isnull().sum()\n",
        "\n",
        "\n",
        "df.fillna(0, inplace=True)"
      ],
      "metadata": {
        "id": "O0huugBVBsdZ"
      },
      "execution_count": 10,
      "outputs": []
    },
    {
      "cell_type": "code",
      "source": [
        "top_5_players = df[['Player', 'Base Price', 'COST IN ₹ (CR.)']].sort_values(by='COST IN ₹ (CR.)', ascending=False).head(5)\n",
        "\n",
        "\n",
        "print(top_5_players)"
      ],
      "metadata": {
        "colab": {
          "base_uri": "https://localhost:8080/"
        },
        "id": "SUJIVU5eB8lh",
        "outputId": "1988e345-5191-470e-8676-21ab1f57b0f3"
      },
      "execution_count": 13,
      "outputs": [
        {
          "output_type": "stream",
          "name": "stdout",
          "text": [
            "              Player Base Price  COST IN ₹ (CR.)\n",
            "97        Sam Curran   20000000            18.50\n",
            "144    Cameron Green   20000000            17.50\n",
            "25        Ben Stokes   20000000            16.25\n",
            "119  Nicholas Pooran   20000000            16.00\n",
            "218      Harry Brook   15000000            13.25\n"
          ]
        }
      ]
    },
    {
      "cell_type": "code",
      "source": [
        "print(df.columns)\n"
      ],
      "metadata": {
        "colab": {
          "base_uri": "https://localhost:8080/"
        },
        "id": "ZGQAeSddEfNv",
        "outputId": "eb8c1a33-6c2d-485a-b518-3c7054b02942"
      },
      "execution_count": 14,
      "outputs": [
        {
          "output_type": "stream",
          "name": "stdout",
          "text": [
            "Index(['Unnamed: 0', 'Player', 'Base Price', 'TYPE', 'COST IN ₹ (CR.)',\n",
            "       'Cost IN $ (000)', '2022 Squad', 'Team', 'Base Price IN ₹',\n",
            "       'Base Price IN $'],\n",
            "      dtype='object')\n"
          ]
        }
      ]
    },
    {
      "cell_type": "code",
      "source": [
        "team_distribution = df['Team'].value_counts()\n",
        "print(team_distribution)"
      ],
      "metadata": {
        "colab": {
          "base_uri": "https://localhost:8080/"
        },
        "id": "Yt2-PBCvSm73",
        "outputId": "19c9e96e-b9a2-412f-cd1b-c45c5a6f203d"
      },
      "execution_count": 15,
      "outputs": [
        {
          "output_type": "stream",
          "name": "stdout",
          "text": [
            "Unsold                         325\n",
            "Gujarat Titans                  25\n",
            "Chennai Super Kings             25\n",
            "Delhi Capitals                  25\n",
            "Lucknow Super Giants            25\n",
            "Royal Challengers Bangalore     25\n",
            "Rajasthan Royals                25\n",
            "Sunrisers Hyderabad             25\n",
            "Mumbai Indians                  24\n",
            "Kolkata Knight Riders           22\n",
            "Punjab Kings                    22\n",
            "Name: Team, dtype: int64\n"
          ]
        }
      ]
    },
    {
      "cell_type": "code",
      "source": [
        "avg_price_by_team = df.groupby('Team')['COST IN ₹ (CR.)'].mean()\n",
        "\n",
        "\n",
        "print(avg_price_by_team)\n",
        "\n",
        "\n",
        "\n",
        "\n",
        "\n",
        "\n",
        "\n",
        "\n",
        "\n",
        "\n"
      ],
      "metadata": {
        "colab": {
          "base_uri": "https://localhost:8080/"
        },
        "id": "MZH-wg9mS3hw",
        "outputId": "7baeebb0-036c-4564-949e-edf39feff180"
      },
      "execution_count": 19,
      "outputs": [
        {
          "output_type": "stream",
          "name": "stdout",
          "text": [
            "Team\n",
            "Chennai Super Kings            0.758000\n",
            "Delhi Capitals                 0.600000\n",
            "Gujarat Titans                 0.592000\n",
            "Kolkata Knight Riders          0.245455\n",
            "Lucknow Super Giants           0.792000\n",
            "Mumbai Indians                 0.854167\n",
            "Punjab Kings                   0.909091\n",
            "Rajasthan Royals               0.394000\n",
            "Royal Challengers Bangalore    0.280000\n",
            "Sunrisers Hyderabad            1.428000\n",
            "Unsold                         0.000000\n",
            "Name: COST IN ₹ (CR.), dtype: float64\n"
          ]
        }
      ]
    },
    {
      "cell_type": "code",
      "source": [
        "plt.figure(figsize=(10,6))\n",
        "sns.barplot(x='Player', y='COST IN ₹ (CR.)', data=top_5_players)\n",
        "plt.title('Top 5 Most Expensive Players')\n",
        "plt.xticks(rotation=45)\n",
        "plt.show()"
      ],
      "metadata": {
        "colab": {
          "base_uri": "https://localhost:8080/",
          "height": 639
        },
        "id": "5Ser0bpuaGZE",
        "outputId": "12648594-37c0-4bef-ec18-6380973afa4f"
      },
      "execution_count": 21,
      "outputs": [
        {
          "output_type": "display_data",
          "data": {
            "text/plain": [
              "<Figure size 1000x600 with 1 Axes>"
            ],
            "image/png": "[encoded data removed]"
          },
          "metadata": {}
        }
      ]
    },
    {
      "cell_type": "code",
      "source": [
        "fig = px.bar(df, x='Team', y='COST IN ₹ (CR.)', title=\"Team Price Distribution\", color='Team')\n",
        "fig.show()"
      ],
      "metadata": {
        "colab": {
          "base_uri": "https://localhost:8080/",
          "height": 542
        },
        "id": "GpO2nHkcadEj",
        "outputId": "1f777342-3b1c-4336-9199-c77c83c7619b"
      },
      "execution_count": 23,
      "outputs": [
        {
          "output_type": "display_data",
          "data": {
            "text/html": [
              "<html>\n",
              "<head><meta charset=\"utf-8\" /></head>\n",
              "<body>\n",
              "    <div>            <script src=\"https://cdnjs.cloudflare.com/ajax/libs/mathjax/2.7.5/MathJax.js?config=TeX-AMS-MML_SVG\"></script><script type=\"text/javascript\">if (window.MathJax && window.MathJax.Hub && window.MathJax.Hub.Config) {window.MathJax.Hub.Config({SVG: {font: \"STIX-Web\"}});}</script>                <script type=\"text/javascript\">window.PlotlyConfig = {MathJaxConfig: 'local'};</script>\n",
              "        <script charset=\"utf-8\" src=\"https://cdn.plot.ly/plotly-2.35.2.min.js\"></script>                <div id=\"bf709ac0-4cb1-4cb0-9fa7-6b49883d9e8e\" class=\"plotly-graph-div\" style=\"height:525px; width:100%;\"></div>            <script type=\"text/javascript\">                                    window.PLOTLYENV=window.PLOTLYENV || {};                                    if (document.getElementById(\"bf709ac0-4cb1-4cb0-9fa7-6b49883d9e8e\")) {                    Plotly.newPlot(                        \"bf709ac0-4cb1-4cb0-9fa7-6b49883d9e8e\",                        [{\"alignmentgroup\":\"True\",\"hovertemplate\":\"Team=%{x}\\u003cbr\\u003eCOST IN \\u20b9 (CR.)=%{y}\\u003cextra\\u003e\\u003c\\u002fextra\\u003e\",\"legendgroup\":\"Gujarat Titans\",\"marker\":{\"color\":\"#636efa\",\"pattern\":{\"shape\":\"\"}},\"name\":\"Gujarat Titans\",\"offsetgroup\":\"Gujarat Titans\",\"orientation\":\"v\",\"showlegend\":true,\"textposition\":\"auto\",\"x\":[\"Gujarat Titans\",\"Gujarat Titans\",\"Gujarat Titans\",\"Gujarat Titans\",\"Gujarat Titans\",\"Gujarat Titans\",\"Gujarat Titans\",\"Gujarat Titans\",\"Gujarat Titans\",\"Gujarat Titans\",\"Gujarat Titans\",\"Gujarat Titans\",\"Gujarat Titans\",\"Gujarat Titans\",\"Gujarat Titans\",\"Gujarat Titans\",\"Gujarat Titans\",\"Gujarat Titans\",\"Gujarat Titans\",\"Gujarat Titans\",\"Gujarat Titans\",\"Gujarat Titans\",\"Gujarat Titans\",\"Gujarat Titans\",\"Gujarat Titans\"],\"xaxis\":\"x\",\"y\":[6.0,4.4,2.0,1.2,0.5,0.5,0.2,0.0,0.0,0.0,0.0,0.0,0.0,0.0,0.0,0.0,0.0,0.0,0.0,0.0,0.0,0.0,0.0,0.0,0.0],\"yaxis\":\"y\",\"type\":\"bar\"},{\"alignmentgroup\":\"True\",\"hovertemplate\":\"Team=%{x}\\u003cbr\\u003eCOST IN \\u20b9 (CR.)=%{y}\\u003cextra\\u003e\\u003c\\u002fextra\\u003e\",\"legendgroup\":\"Chennai Super Kings\",\"marker\":{\"color\":\"#EF553B\",\"pattern\":{\"shape\":\"\"}},\"name\":\"Chennai Super Kings\",\"offsetgroup\":\"Chennai Super Kings\",\"orientation\":\"v\",\"showlegend\":true,\"textposition\":\"auto\",\"x\":[\"Chennai Super Kings\",\"Chennai Super Kings\",\"Chennai Super Kings\",\"Chennai Super Kings\",\"Chennai Super Kings\",\"Chennai Super Kings\",\"Chennai Super Kings\",\"Chennai Super Kings\",\"Chennai Super Kings\",\"Chennai Super Kings\",\"Chennai Super Kings\",\"Chennai Super Kings\",\"Chennai Super Kings\",\"Chennai Super Kings\",\"Chennai Super Kings\",\"Chennai Super Kings\",\"Chennai Super Kings\",\"Chennai Super Kings\",\"Chennai Super Kings\",\"Chennai Super Kings\",\"Chennai Super Kings\",\"Chennai Super Kings\",\"Chennai Super Kings\",\"Chennai Super Kings\",\"Chennai Super Kings\"],\"xaxis\":\"x\",\"y\":[16.25,1.0,0.6,0.5,0.2,0.2,0.2,0.0,0.0,0.0,0.0,0.0,0.0,0.0,0.0,0.0,0.0,0.0,0.0,0.0,0.0,0.0,0.0,0.0,0.0],\"yaxis\":\"y\",\"type\":\"bar\"},{\"alignmentgroup\":\"True\",\"hovertemplate\":\"Team=%{x}\\u003cbr\\u003eCOST IN \\u20b9 (CR.)=%{y}\\u003cextra\\u003e\\u003c\\u002fextra\\u003e\",\"legendgroup\":\"Delhi Capitals\",\"marker\":{\"color\":\"#00cc96\",\"pattern\":{\"shape\":\"\"}},\"name\":\"Delhi Capitals\",\"offsetgroup\":\"Delhi Capitals\",\"orientation\":\"v\",\"showlegend\":true,\"textposition\":\"auto\",\"x\":[\"Delhi Capitals\",\"Delhi Capitals\",\"Delhi Capitals\",\"Delhi Capitals\",\"Delhi Capitals\",\"Delhi Capitals\",\"Delhi Capitals\",\"Delhi Capitals\",\"Delhi Capitals\",\"Delhi Capitals\",\"Delhi Capitals\",\"Delhi Capitals\",\"Delhi Capitals\",\"Delhi Capitals\",\"Delhi Capitals\",\"Delhi Capitals\",\"Delhi Capitals\",\"Delhi Capitals\",\"Delhi Capitals\",\"Delhi Capitals\",\"Delhi Capitals\",\"Delhi Capitals\",\"Delhi Capitals\",\"Delhi Capitals\",\"Delhi Capitals\"],\"xaxis\":\"x\",\"y\":[5.5,4.6,2.4,2.0,0.5,0.0,0.0,0.0,0.0,0.0,0.0,0.0,0.0,0.0,0.0,0.0,0.0,0.0,0.0,0.0,0.0,0.0,0.0,0.0,0.0],\"yaxis\":\"y\",\"type\":\"bar\"},{\"alignmentgroup\":\"True\",\"hovertemplate\":\"Team=%{x}\\u003cbr\\u003eCOST IN \\u20b9 (CR.)=%{y}\\u003cextra\\u003e\\u003c\\u002fextra\\u003e\",\"legendgroup\":\"Kolkata Knight Riders\",\"marker\":{\"color\":\"#ab63fa\",\"pattern\":{\"shape\":\"\"}},\"name\":\"Kolkata Knight Riders\",\"offsetgroup\":\"Kolkata Knight Riders\",\"orientation\":\"v\",\"showlegend\":true,\"textposition\":\"auto\",\"x\":[\"Kolkata Knight Riders\",\"Kolkata Knight Riders\",\"Kolkata Knight Riders\",\"Kolkata Knight Riders\",\"Kolkata Knight Riders\",\"Kolkata Knight Riders\",\"Kolkata Knight Riders\",\"Kolkata Knight Riders\",\"Kolkata Knight Riders\",\"Kolkata Knight Riders\",\"Kolkata Knight Riders\",\"Kolkata Knight Riders\",\"Kolkata Knight Riders\",\"Kolkata Knight Riders\",\"Kolkata Knight Riders\",\"Kolkata Knight Riders\",\"Kolkata Knight Riders\",\"Kolkata Knight Riders\",\"Kolkata Knight Riders\",\"Kolkata Knight Riders\",\"Kolkata Knight Riders\",\"Kolkata Knight Riders\"],\"xaxis\":\"x\",\"y\":[1.5,1.0,0.9,0.6,0.5,0.5,0.2,0.2,0.0,0.0,0.0,0.0,0.0,0.0,0.0,0.0,0.0,0.0,0.0,0.0,0.0,0.0],\"yaxis\":\"y\",\"type\":\"bar\"},{\"alignmentgroup\":\"True\",\"hovertemplate\":\"Team=%{x}\\u003cbr\\u003eCOST IN \\u20b9 (CR.)=%{y}\\u003cextra\\u003e\\u003c\\u002fextra\\u003e\",\"legendgroup\":\"Punjab Kings\",\"marker\":{\"color\":\"#FFA15A\",\"pattern\":{\"shape\":\"\"}},\"name\":\"Punjab Kings\",\"offsetgroup\":\"Punjab Kings\",\"orientation\":\"v\",\"showlegend\":true,\"textposition\":\"auto\",\"x\":[\"Punjab Kings\",\"Punjab Kings\",\"Punjab Kings\",\"Punjab Kings\",\"Punjab Kings\",\"Punjab Kings\",\"Punjab Kings\",\"Punjab Kings\",\"Punjab Kings\",\"Punjab Kings\",\"Punjab Kings\",\"Punjab Kings\",\"Punjab Kings\",\"Punjab Kings\",\"Punjab Kings\",\"Punjab Kings\",\"Punjab Kings\",\"Punjab Kings\",\"Punjab Kings\",\"Punjab Kings\",\"Punjab Kings\",\"Punjab Kings\"],\"xaxis\":\"x\",\"y\":[18.5,0.5,0.4,0.2,0.2,0.2,0.0,0.0,0.0,0.0,0.0,0.0,0.0,0.0,0.0,0.0,0.0,0.0,0.0,0.0,0.0,0.0],\"yaxis\":\"y\",\"type\":\"bar\"},{\"alignmentgroup\":\"True\",\"hovertemplate\":\"Team=%{x}\\u003cbr\\u003eCOST IN \\u20b9 (CR.)=%{y}\\u003cextra\\u003e\\u003c\\u002fextra\\u003e\",\"legendgroup\":\"Lucknow Super Giants\",\"marker\":{\"color\":\"#19d3f3\",\"pattern\":{\"shape\":\"\"}},\"name\":\"Lucknow Super Giants\",\"offsetgroup\":\"Lucknow Super Giants\",\"orientation\":\"v\",\"showlegend\":true,\"textposition\":\"auto\",\"x\":[\"Lucknow Super Giants\",\"Lucknow Super Giants\",\"Lucknow Super Giants\",\"Lucknow Super Giants\",\"Lucknow Super Giants\",\"Lucknow Super Giants\",\"Lucknow Super Giants\",\"Lucknow Super Giants\",\"Lucknow Super Giants\",\"Lucknow Super Giants\",\"Lucknow Super Giants\",\"Lucknow Super Giants\",\"Lucknow Super Giants\",\"Lucknow Super Giants\",\"Lucknow Super Giants\",\"Lucknow Super Giants\",\"Lucknow Super Giants\",\"Lucknow Super Giants\",\"Lucknow Super Giants\",\"Lucknow Super Giants\",\"Lucknow Super Giants\",\"Lucknow Super Giants\",\"Lucknow Super Giants\",\"Lucknow Super Giants\",\"Lucknow Super Giants\"],\"xaxis\":\"x\",\"y\":[16.0,0.75,0.5,0.5,0.5,0.5,0.45,0.2,0.2,0.2,0.0,0.0,0.0,0.0,0.0,0.0,0.0,0.0,0.0,0.0,0.0,0.0,0.0,0.0,0.0],\"yaxis\":\"y\",\"type\":\"bar\"},{\"alignmentgroup\":\"True\",\"hovertemplate\":\"Team=%{x}\\u003cbr\\u003eCOST IN \\u20b9 (CR.)=%{y}\\u003cextra\\u003e\\u003c\\u002fextra\\u003e\",\"legendgroup\":\"Mumbai Indians\",\"marker\":{\"color\":\"#FF6692\",\"pattern\":{\"shape\":\"\"}},\"name\":\"Mumbai Indians\",\"offsetgroup\":\"Mumbai Indians\",\"orientation\":\"v\",\"showlegend\":true,\"textposition\":\"auto\",\"x\":[\"Mumbai Indians\",\"Mumbai Indians\",\"Mumbai Indians\",\"Mumbai Indians\",\"Mumbai Indians\",\"Mumbai Indians\",\"Mumbai Indians\",\"Mumbai Indians\",\"Mumbai Indians\",\"Mumbai Indians\",\"Mumbai Indians\",\"Mumbai Indians\",\"Mumbai Indians\",\"Mumbai Indians\",\"Mumbai Indians\",\"Mumbai Indians\",\"Mumbai Indians\",\"Mumbai Indians\",\"Mumbai Indians\",\"Mumbai Indians\",\"Mumbai Indians\",\"Mumbai Indians\",\"Mumbai Indians\",\"Mumbai Indians\"],\"xaxis\":\"x\",\"y\":[17.5,1.5,0.5,0.2,0.2,0.2,0.2,0.2,0.0,0.0,0.0,0.0,0.0,0.0,0.0,0.0,0.0,0.0,0.0,0.0,0.0,0.0,0.0,0.0],\"yaxis\":\"y\",\"type\":\"bar\"},{\"alignmentgroup\":\"True\",\"hovertemplate\":\"Team=%{x}\\u003cbr\\u003eCOST IN \\u20b9 (CR.)=%{y}\\u003cextra\\u003e\\u003c\\u002fextra\\u003e\",\"legendgroup\":\"Royal Challengers Bangalore\",\"marker\":{\"color\":\"#B6E880\",\"pattern\":{\"shape\":\"\"}},\"name\":\"Royal Challengers Bangalore\",\"offsetgroup\":\"Royal Challengers Bangalore\",\"orientation\":\"v\",\"showlegend\":true,\"textposition\":\"auto\",\"x\":[\"Royal Challengers Bangalore\",\"Royal Challengers Bangalore\",\"Royal Challengers Bangalore\",\"Royal Challengers Bangalore\",\"Royal Challengers Bangalore\",\"Royal Challengers Bangalore\",\"Royal Challengers Bangalore\",\"Royal Challengers Bangalore\",\"Royal Challengers Bangalore\",\"Royal Challengers Bangalore\",\"Royal Challengers Bangalore\",\"Royal Challengers Bangalore\",\"Royal Challengers Bangalore\",\"Royal Challengers Bangalore\",\"Royal Challengers Bangalore\",\"Royal Challengers Bangalore\",\"Royal Challengers Bangalore\",\"Royal Challengers Bangalore\",\"Royal Challengers Bangalore\",\"Royal Challengers Bangalore\",\"Royal Challengers Bangalore\",\"Royal Challengers Bangalore\",\"Royal Challengers Bangalore\",\"Royal Challengers Bangalore\",\"Royal Challengers Bangalore\"],\"xaxis\":\"x\",\"y\":[3.2,1.9,0.7,0.6,0.2,0.2,0.2,0.0,0.0,0.0,0.0,0.0,0.0,0.0,0.0,0.0,0.0,0.0,0.0,0.0,0.0,0.0,0.0,0.0,0.0],\"yaxis\":\"y\",\"type\":\"bar\"},{\"alignmentgroup\":\"True\",\"hovertemplate\":\"Team=%{x}\\u003cbr\\u003eCOST IN \\u20b9 (CR.)=%{y}\\u003cextra\\u003e\\u003c\\u002fextra\\u003e\",\"legendgroup\":\"Rajasthan Royals\",\"marker\":{\"color\":\"#FF97FF\",\"pattern\":{\"shape\":\"\"}},\"name\":\"Rajasthan Royals\",\"offsetgroup\":\"Rajasthan Royals\",\"orientation\":\"v\",\"showlegend\":true,\"textposition\":\"auto\",\"x\":[\"Rajasthan Royals\",\"Rajasthan Royals\",\"Rajasthan Royals\",\"Rajasthan Royals\",\"Rajasthan Royals\",\"Rajasthan Royals\",\"Rajasthan Royals\",\"Rajasthan Royals\",\"Rajasthan Royals\",\"Rajasthan Royals\",\"Rajasthan Royals\",\"Rajasthan Royals\",\"Rajasthan Royals\",\"Rajasthan Royals\",\"Rajasthan Royals\",\"Rajasthan Royals\",\"Rajasthan Royals\",\"Rajasthan Royals\",\"Rajasthan Royals\",\"Rajasthan Royals\",\"Rajasthan Royals\",\"Rajasthan Royals\",\"Rajasthan Royals\",\"Rajasthan Royals\",\"Rajasthan Royals\"],\"xaxis\":\"x\",\"y\":[5.75,1.5,1.0,0.5,0.3,0.2,0.2,0.2,0.2,0.0,0.0,0.0,0.0,0.0,0.0,0.0,0.0,0.0,0.0,0.0,0.0,0.0,0.0,0.0,0.0],\"yaxis\":\"y\",\"type\":\"bar\"},{\"alignmentgroup\":\"True\",\"hovertemplate\":\"Team=%{x}\\u003cbr\\u003eCOST IN \\u20b9 (CR.)=%{y}\\u003cextra\\u003e\\u003c\\u002fextra\\u003e\",\"legendgroup\":\"Sunrisers Hyderabad\",\"marker\":{\"color\":\"#FECB52\",\"pattern\":{\"shape\":\"\"}},\"name\":\"Sunrisers Hyderabad\",\"offsetgroup\":\"Sunrisers Hyderabad\",\"orientation\":\"v\",\"showlegend\":true,\"textposition\":\"auto\",\"x\":[\"Sunrisers Hyderabad\",\"Sunrisers Hyderabad\",\"Sunrisers Hyderabad\",\"Sunrisers Hyderabad\",\"Sunrisers Hyderabad\",\"Sunrisers Hyderabad\",\"Sunrisers Hyderabad\",\"Sunrisers Hyderabad\",\"Sunrisers Hyderabad\",\"Sunrisers Hyderabad\",\"Sunrisers Hyderabad\",\"Sunrisers Hyderabad\",\"Sunrisers Hyderabad\",\"Sunrisers Hyderabad\",\"Sunrisers Hyderabad\",\"Sunrisers Hyderabad\",\"Sunrisers Hyderabad\",\"Sunrisers Hyderabad\",\"Sunrisers Hyderabad\",\"Sunrisers Hyderabad\",\"Sunrisers Hyderabad\",\"Sunrisers Hyderabad\",\"Sunrisers Hyderabad\",\"Sunrisers Hyderabad\",\"Sunrisers Hyderabad\"],\"xaxis\":\"x\",\"y\":[13.25,8.25,5.25,2.6,2.0,1.8,1.0,0.5,0.25,0.2,0.2,0.2,0.2,0.0,0.0,0.0,0.0,0.0,0.0,0.0,0.0,0.0,0.0,0.0,0.0],\"yaxis\":\"y\",\"type\":\"bar\"},{\"alignmentgroup\":\"True\",\"hovertemplate\":\"Team=%{x}\\u003cbr\\u003eCOST IN \\u20b9 (CR.)=%{y}\\u003cextra\\u003e\\u003c\\u002fextra\\u003e\",\"legendgroup\":\"Unsold\",\"marker\":{\"color\":\"#636efa\",\"pattern\":{\"shape\":\"\"}},\"name\":\"Unsold\",\"offsetgroup\":\"Unsold\",\"orientation\":\"v\",\"showlegend\":true,\"textposition\":\"auto\",\"x\":[\"Unsold\",\"Unsold\",\"Unsold\",\"Unsold\",\"Unsold\",\"Unsold\",\"Unsold\",\"Unsold\",\"Unsold\",\"Unsold\",\"Unsold\",\"Unsold\",\"Unsold\",\"Unsold\",\"Unsold\",\"Unsold\",\"Unsold\",\"Unsold\",\"Unsold\",\"Unsold\",\"Unsold\",\"Unsold\",\"Unsold\",\"Unsold\",\"Unsold\",\"Unsold\",\"Unsold\",\"Unsold\",\"Unsold\",\"Unsold\",\"Unsold\",\"Unsold\",\"Unsold\",\"Unsold\",\"Unsold\",\"Unsold\",\"Unsold\",\"Unsold\",\"Unsold\",\"Unsold\",\"Unsold\",\"Unsold\",\"Unsold\",\"Unsold\",\"Unsold\",\"Unsold\",\"Unsold\",\"Unsold\",\"Unsold\",\"Unsold\",\"Unsold\",\"Unsold\",\"Unsold\",\"Unsold\",\"Unsold\",\"Unsold\",\"Unsold\",\"Unsold\",\"Unsold\",\"Unsold\",\"Unsold\",\"Unsold\",\"Unsold\",\"Unsold\",\"Unsold\",\"Unsold\",\"Unsold\",\"Unsold\",\"Unsold\",\"Unsold\",\"Unsold\",\"Unsold\",\"Unsold\",\"Unsold\",\"Unsold\",\"Unsold\",\"Unsold\",\"Unsold\",\"Unsold\",\"Unsold\",\"Unsold\",\"Unsold\",\"Unsold\",\"Unsold\",\"Unsold\",\"Unsold\",\"Unsold\",\"Unsold\",\"Unsold\",\"Unsold\",\"Unsold\",\"Unsold\",\"Unsold\",\"Unsold\",\"Unsold\",\"Unsold\",\"Unsold\",\"Unsold\",\"Unsold\",\"Unsold\",\"Unsold\",\"Unsold\",\"Unsold\",\"Unsold\",\"Unsold\",\"Unsold\",\"Unsold\",\"Unsold\",\"Unsold\",\"Unsold\",\"Unsold\",\"Unsold\",\"Unsold\",\"Unsold\",\"Unsold\",\"Unsold\",\"Unsold\",\"Unsold\",\"Unsold\",\"Unsold\",\"Unsold\",\"Unsold\",\"Unsold\",\"Unsold\",\"Unsold\",\"Unsold\",\"Unsold\",\"Unsold\",\"Unsold\",\"Unsold\",\"Unsold\",\"Unsold\",\"Unsold\",\"Unsold\",\"Unsold\",\"Unsold\",\"Unsold\",\"Unsold\",\"Unsold\",\"Unsold\",\"Unsold\",\"Unsold\",\"Unsold\",\"Unsold\",\"Unsold\",\"Unsold\",\"Unsold\",\"Unsold\",\"Unsold\",\"Unsold\",\"Unsold\",\"Unsold\",\"Unsold\",\"Unsold\",\"Unsold\",\"Unsold\",\"Unsold\",\"Unsold\",\"Unsold\",\"Unsold\",\"Unsold\",\"Unsold\",\"Unsold\",\"Unsold\",\"Unsold\",\"Unsold\",\"Unsold\",\"Unsold\",\"Unsold\",\"Unsold\",\"Unsold\",\"Unsold\",\"Unsold\",\"Unsold\",\"Unsold\",\"Unsold\",\"Unsold\",\"Unsold\",\"Unsold\",\"Unsold\",\"Unsold\",\"Unsold\",\"Unsold\",\"Unsold\",\"Unsold\",\"Unsold\",\"Unsold\",\"Unsold\",\"Unsold\",\"Unsold\",\"Unsold\",\"Unsold\",\"Unsold\",\"Unsold\",\"Unsold\",\"Unsold\",\"Unsold\",\"Unsold\",\"Unsold\",\"Unsold\",\"Unsold\",\"Unsold\",\"Unsold\",\"Unsold\",\"Unsold\",\"Unsold\",\"Unsold\",\"Unsold\",\"Unsold\",\"Unsold\",\"Unsold\",\"Unsold\",\"Unsold\",\"Unsold\",\"Unsold\",\"Unsold\",\"Unsold\",\"Unsold\",\"Unsold\",\"Unsold\",\"Unsold\",\"Unsold\",\"Unsold\",\"Unsold\",\"Unsold\",\"Unsold\",\"Unsold\",\"Unsold\",\"Unsold\",\"Unsold\",\"Unsold\",\"Unsold\",\"Unsold\",\"Unsold\",\"Unsold\",\"Unsold\",\"Unsold\",\"Unsold\",\"Unsold\",\"Unsold\",\"Unsold\",\"Unsold\",\"Unsold\",\"Unsold\",\"Unsold\",\"Unsold\",\"Unsold\",\"Unsold\",\"Unsold\",\"Unsold\",\"Unsold\",\"Unsold\",\"Unsold\",\"Unsold\",\"Unsold\",\"Unsold\",\"Unsold\",\"Unsold\",\"Unsold\",\"Unsold\",\"Unsold\",\"Unsold\",\"Unsold\",\"Unsold\",\"Unsold\",\"Unsold\",\"Unsold\",\"Unsold\",\"Unsold\",\"Unsold\",\"Unsold\",\"Unsold\",\"Unsold\",\"Unsold\",\"Unsold\",\"Unsold\",\"Unsold\",\"Unsold\",\"Unsold\",\"Unsold\",\"Unsold\",\"Unsold\",\"Unsold\",\"Unsold\",\"Unsold\",\"Unsold\",\"Unsold\",\"Unsold\",\"Unsold\",\"Unsold\",\"Unsold\",\"Unsold\",\"Unsold\",\"Unsold\",\"Unsold\",\"Unsold\",\"Unsold\",\"Unsold\",\"Unsold\",\"Unsold\",\"Unsold\",\"Unsold\",\"Unsold\",\"Unsold\",\"Unsold\",\"Unsold\",\"Unsold\",\"Unsold\",\"Unsold\",\"Unsold\",\"Unsold\",\"Unsold\",\"Unsold\",\"Unsold\",\"Unsold\",\"Unsold\",\"Unsold\",\"Unsold\",\"Unsold\",\"Unsold\",\"Unsold\",\"Unsold\",\"Unsold\",\"Unsold\",\"Unsold\"],\"xaxis\":\"x\",\"y\":[0.0,0.0,0.0,0.0,0.0,0.0,0.0,0.0,0.0,0.0,0.0,0.0,0.0,0.0,0.0,0.0,0.0,0.0,0.0,0.0,0.0,0.0,0.0,0.0,0.0,0.0,0.0,0.0,0.0,0.0,0.0,0.0,0.0,0.0,0.0,0.0,0.0,0.0,0.0,0.0,0.0,0.0,0.0,0.0,0.0,0.0,0.0,0.0,0.0,0.0,0.0,0.0,0.0,0.0,0.0,0.0,0.0,0.0,0.0,0.0,0.0,0.0,0.0,0.0,0.0,0.0,0.0,0.0,0.0,0.0,0.0,0.0,0.0,0.0,0.0,0.0,0.0,0.0,0.0,0.0,0.0,0.0,0.0,0.0,0.0,0.0,0.0,0.0,0.0,0.0,0.0,0.0,0.0,0.0,0.0,0.0,0.0,0.0,0.0,0.0,0.0,0.0,0.0,0.0,0.0,0.0,0.0,0.0,0.0,0.0,0.0,0.0,0.0,0.0,0.0,0.0,0.0,0.0,0.0,0.0,0.0,0.0,0.0,0.0,0.0,0.0,0.0,0.0,0.0,0.0,0.0,0.0,0.0,0.0,0.0,0.0,0.0,0.0,0.0,0.0,0.0,0.0,0.0,0.0,0.0,0.0,0.0,0.0,0.0,0.0,0.0,0.0,0.0,0.0,0.0,0.0,0.0,0.0,0.0,0.0,0.0,0.0,0.0,0.0,0.0,0.0,0.0,0.0,0.0,0.0,0.0,0.0,0.0,0.0,0.0,0.0,0.0,0.0,0.0,0.0,0.0,0.0,0.0,0.0,0.0,0.0,0.0,0.0,0.0,0.0,0.0,0.0,0.0,0.0,0.0,0.0,0.0,0.0,0.0,0.0,0.0,0.0,0.0,0.0,0.0,0.0,0.0,0.0,0.0,0.0,0.0,0.0,0.0,0.0,0.0,0.0,0.0,0.0,0.0,0.0,0.0,0.0,0.0,0.0,0.0,0.0,0.0,0.0,0.0,0.0,0.0,0.0,0.0,0.0,0.0,0.0,0.0,0.0,0.0,0.0,0.0,0.0,0.0,0.0,0.0,0.0,0.0,0.0,0.0,0.0,0.0,0.0,0.0,0.0,0.0,0.0,0.0,0.0,0.0,0.0,0.0,0.0,0.0,0.0,0.0,0.0,0.0,0.0,0.0,0.0,0.0,0.0,0.0,0.0,0.0,0.0,0.0,0.0,0.0,0.0,0.0,0.0,0.0,0.0,0.0,0.0,0.0,0.0,0.0,0.0,0.0,0.0,0.0,0.0,0.0,0.0,0.0,0.0,0.0,0.0,0.0,0.0,0.0,0.0,0.0,0.0,0.0,0.0,0.0,0.0,0.0,0.0,0.0,0.0,0.0,0.0,0.0,0.0,0.0,0.0,0.0,0.0,0.0,0.0,0.0],\"yaxis\":\"y\",\"type\":\"bar\"}],                        {\"template\":{\"data\":{\"histogram2dcontour\":[{\"type\":\"histogram2dcontour\",\"colorbar\":{\"outlinewidth\":0,\"ticks\":\"\"},\"colorscale\":[[0.0,\"#0d0887\"],[0.1111111111111111,\"#46039f\"],[0.2222222222222222,\"#7201a8\"],[0.3333333333333333,\"#9c179e\"],[0.4444444444444444,\"#bd3786\"],[0.5555555555555556,\"#d8576b\"],[0.6666666666666666,\"#ed7953\"],[0.7777777777777778,\"#fb9f3a\"],[0.8888888888888888,\"#fdca26\"],[1.0,\"#f0f921\"]]}],\"choropleth\":[{\"type\":\"choropleth\",\"colorbar\":{\"outlinewidth\":0,\"ticks\":\"\"}}],\"histogram2d\":[{\"type\":\"histogram2d\",\"colorbar\":{\"outlinewidth\":0,\"ticks\":\"\"},\"colorscale\":[[0.0,\"#0d0887\"],[0.1111111111111111,\"#46039f\"],[0.2222222222222222,\"#7201a8\"],[0.3333333333333333,\"#9c179e\"],[0.4444444444444444,\"#bd3786\"],[0.5555555555555556,\"#d8576b\"],[0.6666666666666666,\"#ed7953\"],[0.7777777777777778,\"#fb9f3a\"],[0.8888888888888888,\"#fdca26\"],[1.0,\"#f0f921\"]]}],\"heatmap\":[{\"type\":\"heatmap\",\"colorbar\":{\"outlinewidth\":0,\"ticks\":\"\"},\"colorscale\":[[0.0,\"#0d0887\"],[0.1111111111111111,\"#46039f\"],[0.2222222222222222,\"#7201a8\"],[0.3333333333333333,\"#9c179e\"],[0.4444444444444444,\"#bd3786\"],[0.5555555555555556,\"#d8576b\"],[0.6666666666666666,\"#ed7953\"],[0.7777777777777778,\"#fb9f3a\"],[0.8888888888888888,\"#fdca26\"],[1.0,\"#f0f921\"]]}],\"heatmapgl\":[{\"type\":\"heatmapgl\",\"colorbar\":{\"outlinewidth\":0,\"ticks\":\"\"},\"colorscale\":[[0.0,\"#0d0887\"],[0.1111111111111111,\"#46039f\"],[0.2222222222222222,\"#7201a8\"],[0.3333333333333333,\"#9c179e\"],[0.4444444444444444,\"#bd3786\"],[0.5555555555555556,\"#d8576b\"],[0.6666666666666666,\"#ed7953\"],[0.7777777777777778,\"#fb9f3a\"],[0.8888888888888888,\"#fdca26\"],[1.0,\"#f0f921\"]]}],\"contourcarpet\":[{\"type\":\"contourcarpet\",\"colorbar\":{\"outlinewidth\":0,\"ticks\":\"\"}}],\"contour\":[{\"type\":\"contour\",\"colorbar\":{\"outlinewidth\":0,\"ticks\":\"\"},\"colorscale\":[[0.0,\"#0d0887\"],[0.1111111111111111,\"#46039f\"],[0.2222222222222222,\"#7201a8\"],[0.3333333333333333,\"#9c179e\"],[0.4444444444444444,\"#bd3786\"],[0.5555555555555556,\"#d8576b\"],[0.6666666666666666,\"#ed7953\"],[0.7777777777777778,\"#fb9f3a\"],[0.8888888888888888,\"#fdca26\"],[1.0,\"#f0f921\"]]}],\"surface\":[{\"type\":\"surface\",\"colorbar\":{\"outlinewidth\":0,\"ticks\":\"\"},\"colorscale\":[[0.0,\"#0d0887\"],[0.1111111111111111,\"#46039f\"],[0.2222222222222222,\"#7201a8\"],[0.3333333333333333,\"#9c179e\"],[0.4444444444444444,\"#bd3786\"],[0.5555555555555556,\"#d8576b\"],[0.6666666666666666,\"#ed7953\"],[0.7777777777777778,\"#fb9f3a\"],[0.8888888888888888,\"#fdca26\"],[1.0,\"#f0f921\"]]}],\"mesh3d\":[{\"type\":\"mesh3d\",\"colorbar\":{\"outlinewidth\":0,\"ticks\":\"\"}}],\"scatter\":[{\"fillpattern\":{\"fillmode\":\"overlay\",\"size\":10,\"solidity\":0.2},\"type\":\"scatter\"}],\"parcoords\":[{\"type\":\"parcoords\",\"line\":{\"colorbar\":{\"outlinewidth\":0,\"ticks\":\"\"}}}],\"scatterpolargl\":[{\"type\":\"scatterpolargl\",\"marker\":{\"colorbar\":{\"outlinewidth\":0,\"ticks\":\"\"}}}],\"bar\":[{\"error_x\":{\"color\":\"#2a3f5f\"},\"error_y\":{\"color\":\"#2a3f5f\"},\"marker\":{\"line\":{\"color\":\"#E5ECF6\",\"width\":0.5},\"pattern\":{\"fillmode\":\"overlay\",\"size\":10,\"solidity\":0.2}},\"type\":\"bar\"}],\"scattergeo\":[{\"type\":\"scattergeo\",\"marker\":{\"colorbar\":{\"outlinewidth\":0,\"ticks\":\"\"}}}],\"scatterpolar\":[{\"type\":\"scatterpolar\",\"marker\":{\"colorbar\":{\"outlinewidth\":0,\"ticks\":\"\"}}}],\"histogram\":[{\"marker\":{\"pattern\":{\"fillmode\":\"overlay\",\"size\":10,\"solidity\":0.2}},\"type\":\"histogram\"}],\"scattergl\":[{\"type\":\"scattergl\",\"marker\":{\"colorbar\":{\"outlinewidth\":0,\"ticks\":\"\"}}}],\"scatter3d\":[{\"type\":\"scatter3d\",\"line\":{\"colorbar\":{\"outlinewidth\":0,\"ticks\":\"\"}},\"marker\":{\"colorbar\":{\"outlinewidth\":0,\"ticks\":\"\"}}}],\"scattermapbox\":[{\"type\":\"scattermapbox\",\"marker\":{\"colorbar\":{\"outlinewidth\":0,\"ticks\":\"\"}}}],\"scatterternary\":[{\"type\":\"scatterternary\",\"marker\":{\"colorbar\":{\"outlinewidth\":0,\"ticks\":\"\"}}}],\"scattercarpet\":[{\"type\":\"scattercarpet\",\"marker\":{\"colorbar\":{\"outlinewidth\":0,\"ticks\":\"\"}}}],\"carpet\":[{\"aaxis\":{\"endlinecolor\":\"#2a3f5f\",\"gridcolor\":\"white\",\"linecolor\":\"white\",\"minorgridcolor\":\"white\",\"startlinecolor\":\"#2a3f5f\"},\"baxis\":{\"endlinecolor\":\"#2a3f5f\",\"gridcolor\":\"white\",\"linecolor\":\"white\",\"minorgridcolor\":\"white\",\"startlinecolor\":\"#2a3f5f\"},\"type\":\"carpet\"}],\"table\":[{\"cells\":{\"fill\":{\"color\":\"#EBF0F8\"},\"line\":{\"color\":\"white\"}},\"header\":{\"fill\":{\"color\":\"#C8D4E3\"},\"line\":{\"color\":\"white\"}},\"type\":\"table\"}],\"barpolar\":[{\"marker\":{\"line\":{\"color\":\"#E5ECF6\",\"width\":0.5},\"pattern\":{\"fillmode\":\"overlay\",\"size\":10,\"solidity\":0.2}},\"type\":\"barpolar\"}],\"pie\":[{\"automargin\":true,\"type\":\"pie\"}]},\"layout\":{\"autotypenumbers\":\"strict\",\"colorway\":[\"#636efa\",\"#EF553B\",\"#00cc96\",\"#ab63fa\",\"#FFA15A\",\"#19d3f3\",\"#FF6692\",\"#B6E880\",\"#FF97FF\",\"#FECB52\"],\"font\":{\"color\":\"#2a3f5f\"},\"hovermode\":\"closest\",\"hoverlabel\":{\"align\":\"left\"},\"paper_bgcolor\":\"white\",\"plot_bgcolor\":\"#E5ECF6\",\"polar\":{\"bgcolor\":\"#E5ECF6\",\"angularaxis\":{\"gridcolor\":\"white\",\"linecolor\":\"white\",\"ticks\":\"\"},\"radialaxis\":{\"gridcolor\":\"white\",\"linecolor\":\"white\",\"ticks\":\"\"}},\"ternary\":{\"bgcolor\":\"#E5ECF6\",\"aaxis\":{\"gridcolor\":\"white\",\"linecolor\":\"white\",\"ticks\":\"\"},\"baxis\":{\"gridcolor\":\"white\",\"linecolor\":\"white\",\"ticks\":\"\"},\"caxis\":{\"gridcolor\":\"white\",\"linecolor\":\"white\",\"ticks\":\"\"}},\"coloraxis\":{\"colorbar\":{\"outlinewidth\":0,\"ticks\":\"\"}},\"colorscale\":{\"sequential\":[[0.0,\"#0d0887\"],[0.1111111111111111,\"#46039f\"],[0.2222222222222222,\"#7201a8\"],[0.3333333333333333,\"#9c179e\"],[0.4444444444444444,\"#bd3786\"],[0.5555555555555556,\"#d8576b\"],[0.6666666666666666,\"#ed7953\"],[0.7777777777777778,\"#fb9f3a\"],[0.8888888888888888,\"#fdca26\"],[1.0,\"#f0f921\"]],\"sequentialminus\":[[0.0,\"#0d0887\"],[0.1111111111111111,\"#46039f\"],[0.2222222222222222,\"#7201a8\"],[0.3333333333333333,\"#9c179e\"],[0.4444444444444444,\"#bd3786\"],[0.5555555555555556,\"#d8576b\"],[0.6666666666666666,\"#ed7953\"],[0.7777777777777778,\"#fb9f3a\"],[0.8888888888888888,\"#fdca26\"],[1.0,\"#f0f921\"]],\"diverging\":[[0,\"#8e0152\"],[0.1,\"#c51b7d\"],[0.2,\"#de77ae\"],[0.3,\"#f1b6da\"],[0.4,\"#fde0ef\"],[0.5,\"#f7f7f7\"],[0.6,\"#e6f5d0\"],[0.7,\"#b8e186\"],[0.8,\"#7fbc41\"],[0.9,\"#4d9221\"],[1,\"#276419\"]]},\"xaxis\":{\"gridcolor\":\"white\",\"linecolor\":\"white\",\"ticks\":\"\",\"title\":{\"standoff\":15},\"zerolinecolor\":\"white\",\"automargin\":true,\"zerolinewidth\":2},\"yaxis\":{\"gridcolor\":\"white\",\"linecolor\":\"white\",\"ticks\":\"\",\"title\":{\"standoff\":15},\"zerolinecolor\":\"white\",\"automargin\":true,\"zerolinewidth\":2},\"scene\":{\"xaxis\":{\"backgroundcolor\":\"#E5ECF6\",\"gridcolor\":\"white\",\"linecolor\":\"white\",\"showbackground\":true,\"ticks\":\"\",\"zerolinecolor\":\"white\",\"gridwidth\":2},\"yaxis\":{\"backgroundcolor\":\"#E5ECF6\",\"gridcolor\":\"white\",\"linecolor\":\"white\",\"showbackground\":true,\"ticks\":\"\",\"zerolinecolor\":\"white\",\"gridwidth\":2},\"zaxis\":{\"backgroundcolor\":\"#E5ECF6\",\"gridcolor\":\"white\",\"linecolor\":\"white\",\"showbackground\":true,\"ticks\":\"\",\"zerolinecolor\":\"white\",\"gridwidth\":2}},\"shapedefaults\":{\"line\":{\"color\":\"#2a3f5f\"}},\"annotationdefaults\":{\"arrowcolor\":\"#2a3f5f\",\"arrowhead\":0,\"arrowwidth\":1},\"geo\":{\"bgcolor\":\"white\",\"landcolor\":\"#E5ECF6\",\"subunitcolor\":\"white\",\"showland\":true,\"showlakes\":true,\"lakecolor\":\"white\"},\"title\":{\"x\":0.05},\"mapbox\":{\"style\":\"light\"}}},\"xaxis\":{\"anchor\":\"y\",\"domain\":[0.0,1.0],\"title\":{\"text\":\"Team\"},\"categoryorder\":\"array\",\"categoryarray\":[\"Gujarat Titans\",\"Chennai Super Kings\",\"Delhi Capitals\",\"Kolkata Knight Riders\",\"Punjab Kings\",\"Lucknow Super Giants\",\"Mumbai Indians\",\"Royal Challengers Bangalore\",\"Rajasthan Royals\",\"Sunrisers Hyderabad\",\"Unsold\"]},\"yaxis\":{\"anchor\":\"x\",\"domain\":[0.0,1.0],\"title\":{\"text\":\"COST IN \\u20b9 (CR.)\"}},\"legend\":{\"title\":{\"text\":\"Team\"},\"tracegroupgap\":0},\"title\":{\"text\":\"Team Price Distribution\"},\"barmode\":\"relative\"},                        {\"responsive\": true}                    ).then(function(){\n",
              "                            \n",
              "var gd = document.getElementById('bf709ac0-4cb1-4cb0-9fa7-6b49883d9e8e');\n",
              "var x = new MutationObserver(function (mutations, observer) {{\n",
              "        var display = window.getComputedStyle(gd).display;\n",
              "        if (!display || display === 'none') {{\n",
              "            console.log([gd, 'removed!']);\n",
              "            Plotly.purge(gd);\n",
              "            observer.disconnect();\n",
              "        }}\n",
              "}});\n",
              "\n",
              "// Listen for the removal of the full notebook cells\n",
              "var notebookContainer = gd.closest('#notebook-container');\n",
              "if (notebookContainer) {{\n",
              "    x.observe(notebookContainer, {childList: true});\n",
              "}}\n",
              "\n",
              "// Listen for the clearing of the current output cell\n",
              "var outputEl = gd.closest('.output');\n",
              "if (outputEl) {{\n",
              "    x.observe(outputEl, {childList: true});\n",
              "}}\n",
              "\n",
              "                        })                };                            </script>        </div>\n",
              "</body>\n",
              "</html>"
            ]
          },
          "metadata": {}
        }
      ]
    },
    {
      "cell_type": "code",
      "source": [
        "\n",
        "team_selector = widgets.Dropdown(\n",
        "    options=df['Team'].unique(),\n",
        "    description='Team:',\n",
        "    disabled=False,\n",
        ")\n",
        "\n",
        "def display_avg_price(team):\n",
        "    avg_price = df[df['Team'] == team]['COST IN ₹ (CR.)'].mean()\n",
        "    print(f\"Average price for {team}: {avg_price}\")\n",
        "\n",
        "\n",
        "widgets.interactive(display_avg_price, team=team_selector)\n"
      ],
      "metadata": {
        "colab": {
          "base_uri": "https://localhost:8080/",
          "height": 67,
          "referenced_widgets": [
            "3842f80dec7c42c297b6e5bf7bf707b7",
            "36a9577ccc564b71bf095cc06bf66c03",
            "6c7c47ea8928459ba466bc8f3a178b4b",
            "e2e2ad03e89b4f259efa2f0d09c0a227",
            "3f2b1a052e9040dc950b4a94add1febb",
            "38bc93be5eaf4f1bbceb04a32cc63f3c",
            "140a6113d1714b3fa29f31d30e215b8f"
          ]
        },
        "id": "6q_nY-iwbtHM",
        "outputId": "10792b88-0675-4247-d856-bcfa5a5bf3f1"
      },
      "execution_count": 28,
      "outputs": [
        {
          "output_type": "display_data",
          "data": {
            "text/plain": [
              "interactive(children=(Dropdown(description='Team:', options=('Gujarat Titans', 'Chennai Super Kings', 'Delhi C…"
            ],
            "application/vnd.jupyter.widget-view+json": {
              "version_major": 2,
              "version_minor": 0,
              "model_id": "3842f80dec7c42c297b6e5bf7bf707b7"
            }
          },
          "metadata": {}
        }
      ]
    },
    {
      "cell_type": "code",
      "source": [
        "team_selector = widgets.Dropdown(\n",
        "    options=df['Team'].unique(),\n",
        "    description='Select Team:',\n",
        "    style={'description_width': 'initial'},\n",
        "    layout=widgets.Layout(width='50%')\n",
        ")\n",
        "\n",
        "\n",
        "def display_avg_price(team):\n",
        "    team_data = df[df['Team'] == team]\n",
        "    avg_price = team_data['COST IN ₹ (CR.)'].mean()\n",
        "\n",
        "\n",
        "    avg_price_formatted = f\"₹{avg_price:.2f} CR.\"\n",
        "    display_message = f\"<b>Average Sold Price for {team}:</b> <span style='color:green;font-size:20px;'>{avg_price_formatted}</span>\"\n",
        "\n",
        "\n",
        "    from IPython.display import display, HTML\n",
        "    display(HTML(display_message))\n",
        "\n",
        "\n",
        "    plt.figure(figsize=(8, 5))\n",
        "    sns.barplot(x='Player', y='COST IN ₹ (CR.)', data=team_data, palette='Blues_d')\n",
        "    plt.xticks(rotation=90)\n",
        "    plt.title(f'{team} Player Price Distribution')\n",
        "    plt.ylabel('Price (₹ CR.)')\n",
        "    plt.xlabel('Player')\n",
        "    plt.show()\n",
        "\n",
        "\n",
        "widgets.interactive(display_avg_price, team=team_selector)"
      ],
      "metadata": {
        "colab": {
          "base_uri": "https://localhost:8080/",
          "height": 848,
          "referenced_widgets": [
            "2fc998c3458e46928594fe020f4b961b",
            "41c89d78ac6d4a68873e49259fddbbf2",
            "9222201741e0472ebf49dee8a4d67e33",
            "361e086b9a9b4e2f83a198ee2e303195",
            "3f5f6490e7ae44668ed30129583fd820",
            "a25c7aa0233b4408a88766be06d7f7b5",
            "bee6dd8cf45c44a5b319da501271338a"
          ]
        },
        "id": "buzSLs46cbU-",
        "outputId": "03f1fb7c-c4d4-46fa-9d45-42f543ede153"
      },
      "execution_count": 29,
      "outputs": [
        {
          "output_type": "display_data",
          "data": {
            "text/plain": [
              "interactive(children=(Dropdown(description='Select Team:', layout=Layout(width='50%'), options=('Gujarat Titan…"
            ],
            "application/vnd.jupyter.widget-view+json": {
              "version_major": 2,
              "version_minor": 0,
              "model_id": "2fc998c3458e46928594fe020f4b961b"
            }
          },
          "metadata": {}
        }
      ]
    }
  ]
}